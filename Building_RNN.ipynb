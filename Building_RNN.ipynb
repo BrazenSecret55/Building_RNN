{
  "nbformat": 4,
  "nbformat_minor": 0,
  "metadata": {
    "colab": {
      "name": "Building_RNN.ipynb",
      "provenance": []
    },
    "kernelspec": {
      "name": "python3",
      "display_name": "Python 3"
    }
  },
  "cells": [
    {
      "cell_type": "code",
      "metadata": {
        "id": "l00Xmz-lezsK",
        "colab_type": "code",
        "colab": {}
      },
      "source": [
        "import numpy as np"
      ],
      "execution_count": 0,
      "outputs": []
    },
    {
      "cell_type": "code",
      "metadata": {
        "id": "ZFSRdjC4fZ1g",
        "colab_type": "code",
        "colab": {}
      },
      "source": [
        "def softmax(x):\n",
        "  e_x = np.exp(x-np.max(x))\n",
        "  return e_x/e_x.sum(axis=0)\n",
        "\n",
        "def sigmoid(x):\n",
        "  return 1/(1+np.exp(-x))"
      ],
      "execution_count": 0,
      "outputs": []
    },
    {
      "cell_type": "code",
      "metadata": {
        "id": "PhGUYL9nftAr",
        "colab_type": "code",
        "colab": {}
      },
      "source": [
        "def initialize_adam(parameters):\n",
        "  L = len(parameters)  #no. of layers in neural network\n",
        "  v = {}    # pyhton dictionary contains weighted average of gradient\n",
        "  s = {}    # python dictionary contains weighted average of squared gradient\n",
        "\n",
        "  for l in range(L):\n",
        "    v[\"dW\" + str(l+1)] = np.zeros(parameters(\"W\" + str(l+1)).shape)\n",
        "    v[\"db\" + str(l+1)] = np.zeros(parameters(\"b\" + str(l+1)).shape)\n",
        "    s[\"dW\" + str(l+1)] = np.zeros(parameters(\"W\" + str(l+1)).shape)\n",
        "    s[\"db\" + str(l+1)] = np.zeros(parameters(\"b\" + str(l+1)).shape)\n",
        "\n",
        "    return v,s \n",
        "  def update_parameters_with_adam(parameters, grads, v, s, t, learning_rate=0.01, beta1=0.9, beta2 = 0.999, epsilon = 1e-8):\n",
        "    L = len(parameters)\n",
        "    v_corrected = {}\n",
        "    s_corrected = {}\n",
        "\n",
        "    for l in range (L):\n",
        "      v[\"dW\" + str(l+1)] = beta1 * v[\"dW\" + str(l+1)] + (1-beta1) * v[\"dW\" + str(l+1)]\n",
        "      v[\"db\" + str(l+1)] = beta1 * v[\"db\" + str(l+1)] + (1-beta1) * v[\"db\" + str(l+1)]\n",
        "\n",
        "      v_corrected = v[\"dW\" + str(l+1)] / (1-beta1 ** t)\n",
        "      v_corrected = v[\"db\" + str(l+1)] / (1-beta1 ** t)\n",
        "\n",
        "      s[\"dW\" + str(l+1)] = beta2 * s[\"dW\" + str(l+1)] + (1-beta2) * (grads[\"dW\" + str(l+1) ** 2])\n",
        "      s[\"db\" + str(l+1)] = beta2 * s[\"db\" + str(l+1)] + (1-beta2) * (grads[\"db\" + str(l+1) ** 2])\n",
        "\n",
        "      s_corrected = s[\"dW\" + str(l+1)] / (1 - beta2 ** t)\n",
        "      s_corrected = s[\"db\" + str(l+1)] / (1 - beta2 ** t)\n",
        "\n",
        "      parameters[\"W\" + str(l+1)] = parameters[\"W\" + str(l+1)] - learning_rate * v_corrected[\"dW\" + str(l+1)] / np.sqrt(s_corrected[\"dW\" + str(l+1)] + epsilon)\n",
        "      parameters[\"b\" + str(l+1)] = parameters[\"b\" + str(l+1)] - learning_rate * v_corrected[\"dW\" + str(l+1)] / np.sqrt(s_corrected[\"db\" + str(l+1)] + epsilon)\n",
        "\n",
        "      return parameters, v, s \n",
        "\n",
        "  \n"
      ],
      "execution_count": 0,
      "outputs": []
    },
    {
      "cell_type": "markdown",
      "metadata": {
        "id": "wjHFRNCGwgwL",
        "colab_type": "text"
      },
      "source": [
        "### **Forward propagation for the basic Recurrent Neural Network**"
      ]
    },
    {
      "cell_type": "code",
      "metadata": {
        "id": "3-_DtyvSktwa",
        "colab_type": "code",
        "colab": {}
      },
      "source": [
        "def rnn_cell_forward(xt, a_prev, parameters):\n",
        "  Wax = parameters[\"Wax\"]\n",
        "  Waa = parameters[\"Waa\"]\n",
        "  Wya = parameters[\"Wya\"]\n",
        "  ba = parameters[\"ba\"]\n",
        "  by = parameters[\"by\"]\n",
        "\n",
        "  a_next = np.tanh((np.dot(Waa,a_prev) + np.dot(Wax,xt) + ba))\n",
        "  yt_pred = softmax(np.dot(Wya,a_next) + by)\n",
        "\n",
        "  cache = (a_next, a_prev, xt, parameters)  # for backward propagation\n",
        "\n",
        "  return a_next, yt_pred, cache"
      ],
      "execution_count": 0,
      "outputs": []
    },
    {
      "cell_type": "code",
      "metadata": {
        "id": "Bj7IbG96n3Mj",
        "colab_type": "code",
        "colab": {
          "base_uri": "https://localhost:8080/",
          "height": 369
        },
        "outputId": "3385eb11-ebc9-4121-901f-e84a106c7241"
      },
      "source": [
        "np.random.seed(1)\n",
        "xt_temp = np.random.randn(3,10)\n",
        "a_prev_temp = np.random.randn(5,10)\n",
        "\n",
        "parameters_temp ={}\n",
        "parameters_temp['Waa'] = np.random.randn(5,5)\n",
        "parameters_temp['Wax'] = np.random.randn(5,3)\n",
        "parameters_temp['Wya'] = np.random.randn(2,5)\n",
        "parameters_temp['ba'] = np.random.randn(5,1)\n",
        "parameters_temp['by'] = np.random.randn(2,1)\n",
        "\n",
        "a_next_temp, yt_pred_temp, cache_temp = rnn_cell_forward(xt_temp, a_prev_temp, parameters_temp)\n",
        "print(\"\\n\", a_next_temp)\n",
        "print(\"\\n\", a_next_temp.shape)\n",
        "print(\"\\n\", yt_pred_temp)\n",
        "print(\"\\n\", yt_pred_temp.shape)"
      ],
      "execution_count": 5,
      "outputs": [
        {
          "output_type": "stream",
          "text": [
            "\n",
            " [[ 0.95442347 -0.97959841 -0.77682357 -0.85960496  0.2996283  -0.72828789\n",
            "   0.70341981  0.396781    0.64215271 -0.68720152]\n",
            " [-0.77817006 -0.96939535 -0.90158668 -0.89269334 -0.94794605 -0.62569074\n",
            "  -0.7847199   0.73807292  0.40638533 -0.49874722]\n",
            " [ 0.34337788 -0.99997631 -0.99692205 -0.98133709 -0.93123291 -0.99802557\n",
            "  -0.99662894 -0.93641136 -0.25153222  0.54770565]\n",
            " [-0.85404662  0.97190276  0.60516394  0.65999969 -0.68038654  0.09222782\n",
            "   0.34729991  0.41705046 -0.44431726  0.74395075]\n",
            " [ 0.59584544  0.18141802  0.61311866  0.99808218  0.85016201  0.99980978\n",
            "  -0.18887155  0.99815551  0.6531151   0.82872037]]\n",
            "\n",
            " (5, 10)\n",
            "\n",
            " [[0.0111839  0.98317979 0.78859101 0.63182533 0.01011613 0.11054788\n",
            "  0.63079776 0.0033688  0.0017441  0.82253474]\n",
            " [0.9888161  0.01682021 0.21140899 0.36817467 0.98988387 0.88945212\n",
            "  0.36920224 0.9966312  0.9982559  0.17746526]]\n",
            "\n",
            " (2, 10)\n"
          ],
          "name": "stdout"
        }
      ]
    },
    {
      "cell_type": "code",
      "metadata": {
        "id": "emYvydLipSWO",
        "colab_type": "code",
        "colab": {}
      },
      "source": [
        "def rnn_forward(x, a0, parameters):\n",
        "  caches =[]\n",
        "  n_x, m, T_x = x.shape\n",
        "  n_y, n_a = parameters[\"Wya\"].shape\n",
        "\n",
        "  a = np.zeros((n_a, m, T_x))\n",
        "  y_pred = np.zeros((n_y, m, T_x))\n",
        "\n",
        "  a_next = a0\n",
        "\n",
        "  for t in range (T_x):\n",
        "    xt = x[:,:,t]\n",
        "    a_next, yt_pred, cache = rnn_cell_forward(xt, a0, parameters)\n",
        "    a[:,:,t] = a_next\n",
        "    y_pred[:,:,t] = yt_pred\n",
        "    caches.append(cache)\n",
        "    caches = (caches, x)\n",
        "    \n",
        "    return a, y_pred, caches"
      ],
      "execution_count": 0,
      "outputs": []
    },
    {
      "cell_type": "code",
      "metadata": {
        "id": "BjFvE_-kv4QJ",
        "colab_type": "code",
        "colab": {
          "base_uri": "https://localhost:8080/",
          "height": 228
        },
        "outputId": "612ecd10-e722-421d-f889-b3d88c865f55"
      },
      "source": [
        "np.random.seed(1)\n",
        "x_tmp = np.random.randn(3,10,4)\n",
        "a0_tmp = np.random.randn(5,10)\n",
        "parameters_tmp = {}\n",
        "parameters_tmp['Waa'] = np.random.randn(5,5)\n",
        "parameters_tmp['Wax'] = np.random.randn(5,3)\n",
        "parameters_tmp['Wya'] = np.random.randn(2,5)\n",
        "parameters_tmp['ba'] = np.random.randn(5,1)\n",
        "parameters_tmp['by'] = np.random.randn(2,1)\n",
        "\n",
        "a_tmp, y_pred_tmp, caches_tmp = rnn_forward(x_tmp, a0_tmp, parameters_tmp)\n",
        "print(\"a[4][1] = \\n\", a_tmp[4][1])\n",
        "print(\"a.shape = \\n\", a_tmp.shape)\n",
        "print(\"y_pred[1][3] =\\n\", y_pred_tmp[1][3])\n",
        "print(\"y_pred.shape = \\n\", y_pred_tmp.shape)\n",
        "print(\"caches[1][1][3] =\\n\", caches_tmp[1][1][3])\n",
        "print(\"len(caches) = \\n\", len(caches_tmp))"
      ],
      "execution_count": 7,
      "outputs": [
        {
          "output_type": "stream",
          "text": [
            "a[4][1] = \n",
            " [-0.99999375  0.          0.          0.        ]\n",
            "a.shape = \n",
            " (5, 10, 4)\n",
            "y_pred[1][3] =\n",
            " [0.79560373 0.         0.         0.        ]\n",
            "y_pred.shape = \n",
            " (2, 10, 4)\n",
            "caches[1][1][3] =\n",
            " [-1.1425182  -0.34934272 -0.20889423  0.58662319]\n",
            "len(caches) = \n",
            " 2\n"
          ],
          "name": "stdout"
        }
      ]
    },
    {
      "cell_type": "code",
      "metadata": {
        "id": "kTW10HWXwG9B",
        "colab_type": "code",
        "colab": {}
      },
      "source": [
        ""
      ],
      "execution_count": 0,
      "outputs": []
    },
    {
      "cell_type": "markdown",
      "metadata": {
        "id": "lta4bZaQwvQq",
        "colab_type": "text"
      },
      "source": [
        "### **Long Short-Term Memory (LSTM) Network**"
      ]
    },
    {
      "cell_type": "code",
      "metadata": {
        "id": "xlbl-Ymzw53M",
        "colab_type": "code",
        "colab": {}
      },
      "source": [
        "def lstm_cell_forward(xt, a_prev, c_prev, parameters):\n",
        "  Wf = parameters[\"Wf\"]  # forget gate weight\n",
        "  bf = parameters[\"bf\"]\n",
        "  Wi = parameters[\"Wi\"]  # update gate weight\n",
        "  bi = parameters[\"bi\"]\n",
        "  Wo = parameters[\"Wo\"]  # output gate weight\n",
        "  bo = parameters[\"bo\"]\n",
        "  Wy = parameters[\"Wy\"]  # prediction weight\n",
        "  by = parameters[\"by\"]\n",
        "  Wc = parameters[\"Wc\"]  # candidate value weight\n",
        "  bc = parameters[\"bc\"]\n",
        "\n",
        "  n_x, m = xt.shape\n",
        "  n_y, n_a = Wy.shape\n",
        "\n",
        "  concat = np.zeros((n_a + n_x, m))\n",
        "  concat[: n_a,:] = a_prev\n",
        "  concat[n_a :,:] = xt\n",
        "\n",
        "  ft = sigmoid(np.dot(Wf,concat) + bf) \n",
        "  it = sigmoid(np.dot(Wi, concat) + bi)\n",
        "  cct = np.tanh(np.dot(Wc, concat) + bc)\n",
        "  c_next = it * cct + ft*c_prev\n",
        "  ot = sigmoid(np.dot(Wo, concat) + bo)\n",
        "  a_next = ot * np.tanh(c_next)\n",
        "\n",
        "  yt_pred = softmax(np.dot(Wy, c_next) + by)\n",
        "\n",
        "  cache = (a_next, c_next, a_prev, c_prev, ft, it, cct, ot, xt, parameters)\n",
        "\n",
        "  return a_next, c_next, yt_pred, cache\n",
        "\n",
        "\n"
      ],
      "execution_count": 0,
      "outputs": []
    },
    {
      "cell_type": "code",
      "metadata": {
        "id": "-c-I-H1FCdo7",
        "colab_type": "code",
        "colab": {
          "base_uri": "https://localhost:8080/",
          "height": 281
        },
        "outputId": "cd122b6c-a9db-4451-90fa-8635559562f7"
      },
      "source": [
        "np.random.seed(1)\n",
        "xt_tmp = np.random.randn(3,10)\n",
        "a_prev_tmp = np.random.randn(5,10)\n",
        "c_prev_tmp = np.random.randn(5,10)\n",
        "parameters_tmp = {}\n",
        "parameters_tmp['Wf'] = np.random.randn(5, 5+3)\n",
        "parameters_tmp['bf'] = np.random.randn(5,1)\n",
        "parameters_tmp['Wi'] = np.random.randn(5, 5+3)\n",
        "parameters_tmp['bi'] = np.random.randn(5,1)\n",
        "parameters_tmp['Wo'] = np.random.randn(5, 5+3)\n",
        "parameters_tmp['bo'] = np.random.randn(5,1)\n",
        "parameters_tmp['Wc'] = np.random.randn(5, 5+3)\n",
        "parameters_tmp['bc'] = np.random.randn(5,1)\n",
        "parameters_tmp['Wy'] = np.random.randn(2,5)\n",
        "parameters_tmp['by'] = np.random.randn(2,1)\n",
        "\n",
        "a_next_tmp, c_next_tmp, yt_tmp, cache_tmp = lstm_cell_forward(xt_tmp, a_prev_tmp, c_prev_tmp, parameters_tmp)\n",
        "print(\"a_next[4] = \\n\", a_next_tmp[4])\n",
        "print(\"a_next.shape = \", c_next_tmp.shape)\n",
        "print(\"c_next[2] = \\n\", c_next_tmp[2])\n",
        "print(\"c_next.shape = \", c_next_tmp.shape)\n",
        "print(\"yt[1] =\", yt_tmp[1])\n",
        "print(\"yt.shape = \", yt_tmp.shape)\n",
        "print(\"cache[1][3] =\\n\", cache_tmp[1][3])\n",
        "print(\"len(cache) = \", len(cache_tmp))"
      ],
      "execution_count": 9,
      "outputs": [
        {
          "output_type": "stream",
          "text": [
            "a_next[4] = \n",
            " [-0.66408471  0.0036921   0.02088357  0.22834167 -0.85575339  0.00138482\n",
            "  0.76566531  0.34631421 -0.00215674  0.43827275]\n",
            "a_next.shape =  (5, 10)\n",
            "c_next[2] = \n",
            " [ 0.63267805  1.00570849  0.35504474  0.20690913 -1.64566718  0.11832942\n",
            "  0.76449811 -0.0981561  -0.74348425 -0.26810932]\n",
            "c_next.shape =  (5, 10)\n",
            "yt[1] = [0.93502843 0.01259329 0.14295783 0.12709192 0.99955699 0.0092636\n",
            " 0.0017344  0.11317375 0.89929897 0.11418954]\n",
            "yt.shape =  (2, 10)\n",
            "cache[1][3] =\n",
            " [-0.16263996  1.03729328  0.72938082 -0.54101719  0.02752074 -0.30821874\n",
            "  0.07651101 -1.03752894  1.41219977 -0.37647422]\n",
            "len(cache) =  10\n"
          ],
          "name": "stdout"
        }
      ]
    },
    {
      "cell_type": "code",
      "metadata": {
        "id": "kMt8yXeWDhnc",
        "colab_type": "code",
        "colab": {}
      },
      "source": [
        "def lstm_forward(x, a0, parameters):\n",
        "\n",
        "  caches = []\n",
        "\n",
        "  Wy = parameters[\"Wy\"]\n",
        "\n",
        "  n_x, m, T_x = x.shape\n",
        "  n_y, n_a = parameters['Wy'].shape\n",
        "\n",
        "  a = np.zeros((n_a,m,T_x))\n",
        "  c = np.zeros((n_a,m,T_x))\n",
        "  y = np.zeros((n_y,m,T_x))\n",
        "\n",
        "  a_next = a0\n",
        "  c_next = np.zeros((n_a,m))\n",
        "\n",
        "  for t in range(T_x):\n",
        "    xt = x[:,:,t]\n",
        "    a_next, c_next, yt, cache = lstm_cell_forward(xt, a_next, c_next, parameters)\n",
        "    a[:,:,t] = a_next\n",
        "    c[:,:,t] = c_next \n",
        "    y[:,:,t] = yt\n",
        "\n",
        "    caches.append(cache)\n",
        "\n",
        "  caches = (caches,x)\n",
        "\n",
        "  return a,y,c,caches"
      ],
      "execution_count": 0,
      "outputs": []
    },
    {
      "cell_type": "code",
      "metadata": {
        "id": "jEa8laMoGNTl",
        "colab_type": "code",
        "colab": {
          "base_uri": "https://localhost:8080/",
          "height": 175
        },
        "outputId": "fc05f28c-8c2c-4276-d5fd-2c587f745df6"
      },
      "source": [
        "np.random.seed(1)\n",
        "x_tmp = np.random.randn(3,10,7)\n",
        "a0_tmp = np.random.randn(5,10)\n",
        "parameters_tmp = {}\n",
        "parameters_tmp['Wf'] = np.random.randn(5, 5+3)\n",
        "parameters_tmp['bf'] = np.random.randn(5,1)\n",
        "parameters_tmp['Wi'] = np.random.randn(5, 5+3)\n",
        "parameters_tmp['bi']= np.random.randn(5,1)\n",
        "parameters_tmp['Wo'] = np.random.randn(5, 5+3)\n",
        "parameters_tmp['bo'] = np.random.randn(5,1)\n",
        "parameters_tmp['Wc'] = np.random.randn(5, 5+3)\n",
        "parameters_tmp['bc'] = np.random.randn(5,1)\n",
        "parameters_tmp['Wy'] = np.random.randn(2,5)\n",
        "parameters_tmp['by'] = np.random.randn(2,1)\n",
        "\n",
        "a_tmp, y_tmp, c_tmp, caches_tmp = lstm_forward(x_tmp, a0_tmp, parameters_tmp)\n",
        "print(\"a[4][3][6] = \", a_tmp[4][3][6])\n",
        "print(\"a.shape = \", a_tmp.shape)\n",
        "print(\"y[1][4][3] =\", y_tmp[1][4][3])\n",
        "print(\"y.shape = \", y_tmp.shape)\n",
        "print(\"caches[1][1][1] =\\n\", caches_tmp[1][1][1])\n",
        "print(\"c[1][2][1]\", c_tmp[1][2][1])\n",
        "print(\"len(caches) = \", len(caches_tmp))"
      ],
      "execution_count": 11,
      "outputs": [
        {
          "output_type": "stream",
          "text": [
            "a[4][3][6] =  0.17211776753291672\n",
            "a.shape =  (5, 10, 7)\n",
            "y[1][4][3] = 0.9897036469242136\n",
            "y.shape =  (2, 10, 7)\n",
            "caches[1][1][1] =\n",
            " [ 0.82797464  0.23009474  0.76201118 -0.22232814 -0.20075807  0.18656139\n",
            "  0.41005165]\n",
            "c[1][2][1] -0.8555449167181981\n",
            "len(caches) =  2\n"
          ],
          "name": "stdout"
        }
      ]
    },
    {
      "cell_type": "code",
      "metadata": {
        "id": "NYdJBC8PGPiF",
        "colab_type": "code",
        "colab": {}
      },
      "source": [
        ""
      ],
      "execution_count": 0,
      "outputs": []
    },
    {
      "cell_type": "code",
      "metadata": {
        "id": "_4LiurBRG2eC",
        "colab_type": "code",
        "colab": {}
      },
      "source": [
        ""
      ],
      "execution_count": 0,
      "outputs": []
    }
  ]
}